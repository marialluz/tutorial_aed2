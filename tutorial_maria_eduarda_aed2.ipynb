{
  "cells": [
    {
      "cell_type": "markdown",
      "id": "44cf7dfc",
      "metadata": {
        "id": "intro-cell"
      },
      "source": [
        "# Estrutura de Dados 2 – Tutorial Hands On\n",
        "\n",
        "Bem-vindos ao tutorial prático para a disciplina de **Estrutura de Dados 2**!\n",
        "\n",
        "**Autora**: Maria Eduarda Lima Da Luz  \n",
        "**Matrícula**: 20250051776\n",
        "\n",
        "Neste notebook, abordaremos:\n",
        "\n",
        "1. **Fundamentos de Probabilidade** (Capítulo 2)\n",
        "2. **Fundamentos de Estatística** (Capítulo 3)\n",
        "3. **Grafos Simples** (Capítulo 6)\n",
        "4. **Grafos Estendidos** (Capítulo 7)\n",
        "\n",
        "As explicações são baseadas em trechos resumidos do livro *The Atlas for the Aspiring Network Scientist* (ver referência no README) e adaptadas para a disciplina de Estrutura de Dados 2.\n",
        "\n",
        "> **Dica de Aprendizagem**: Inspire-se na abordagem de aprendizado que combina *Knowing, Discovering, Sharing e Experiencing* para aprofundar seus conhecimentos praticando, pesquisando e discutindo com colegas.\n",
        "\n",
        "Conteúdo auxiliado por ChatGPT o3-mini."
      ]
    },
    {
      "cell_type": "markdown",
      "id": "69437d69",
      "metadata": {
        "id": "cap2"
      },
      "source": [
        "## 1. Fundamentos de Probabilidade\n",
        "\n",
        "### 1.1 Conceitos Iniciais\n",
        "- **Probabilidade Frequentista**: Usa a frequência relativa em experimentos repetidos para estimar a probabilidade.\n",
        "- **Probabilidade Bayesiana**: Incorpora crenças prévias (priors) e as atualiza com base em novas evidências (Teorema de Bayes).\n",
        "\n",
        "### 1.2 Exemplos em Python\n",
        "Vamos criar uma pequena simulação de lançamento de moeda."
      ]
    },
    {
      "cell_type": "code",
      "execution_count": null,
      "id": "f9927db8",
      "metadata": {
        "id": "prob-simulation"
      },
      "outputs": [],
      "source": [
        "import random\n",
        "\n",
        "def coin_toss(n=10, p_head=0.5):\n",
        "    \"\"\"Simula n lançamentos de moeda, retornando o número de caras.\"\"\"\n",
        "    count_heads = 0\n",
        "    for _ in range(n):\n",
        "        if random.random() < p_head:\n",
        "            count_heads += 1\n",
        "    return count_heads\n",
        "\n",
        "# Exemplo de uso:\n",
        "n_experimentos = 10\n",
        "resultado = coin_toss(n=n_experimentos, p_head=0.7)\n",
        "print(f\"Para {n_experimentos} lançamentos, obtivemos {resultado} caras (p=0.7).\")"
      ]
    },
    {
      "cell_type": "markdown",
      "id": "09bc75e9",
      "metadata": {
        "id": "cap3"
      },
      "source": [
        "## 2. Fundamentos de Estatística\n",
        "\n",
        "### 2.1 Medidas Descritivas\n",
        "- **Média** e **Mediana**.\n",
        "- **Variância** e **Desvio Padrão**.\n",
        "- Distribuições: Normal, Exponencial, Power Law, etc.\n",
        "\n",
        "### 2.2 Correlação e p-valores\n",
        "- **Correlação (Pearson, Spearman)**.\n",
        "- **p-valor**: Probabilidade de observar um resultado sob a hipótese nula.\n",
        "\n",
        "### 2.3 Exemplo de Análise Estatística em Python\n"
      ]
    },
    {
      "cell_type": "code",
      "execution_count": null,
      "id": "e42bc1de",
      "metadata": {
        "id": "stat-examples"
      },
      "outputs": [],
      "source": [
        "import statistics\n",
        "\n",
        "dados = [5, 7, 9, 10, 10, 13, 20, 22]\n",
        "media = statistics.mean(dados)\n",
        "mediana = statistics.median(dados)\n",
        "variancia = statistics.pvariance(dados)\n",
        "desvio_padrao = statistics.pstdev(dados)\n",
        "\n",
        "print(\"Dados:\", dados)\n",
        "print(f\"Média: {media}\")\n",
        "print(f\"Mediana: {mediana}\")\n",
        "print(f\"Variância: {variancia}\")\n",
        "print(f\"Desvio Padrão: {desvio_padrao}\")"
      ]
    },
    {
      "cell_type": "markdown",
      "id": "e8a5abe1",
      "metadata": {
        "id": "cap6"
      },
      "source": [
        "## 3. Grafos Simples (Capítulo 6)\n",
        "\n",
        "Um **grafo simples** é um grafo sem arestas múltiplas entre o mesmo par de nós e sem laços. Vamos usar a biblioteca **NetworkX** para criar e analisar grafos simples."
      ]
    },
    {
      "cell_type": "code",
      "execution_count": null,
      "id": "b4d450dd",
      "metadata": {
        "id": "graph-basic"
      },
      "outputs": [],
      "source": [
        "import networkx as nx\n",
        "import matplotlib.pyplot as plt\n",
        "%matplotlib inline\n",
        "\n",
        "# Criação de um grafo simples\n",
        "G = nx.Graph()\n",
        "\n",
        "# Adicionando nós\n",
        "G.add_nodes_from([\"A\", \"B\", \"C\", \"D\"])\n",
        "\n",
        "# Adicionando arestas\n",
        "G.add_edge(\"A\", \"B\")\n",
        "G.add_edge(\"A\", \"C\")\n",
        "G.add_edges_from([\n",
        "    (\"B\", \"C\"),\n",
        "    (\"C\", \"D\")\n",
        "])\n",
        "\n",
        "# Desenhando o grafo\n",
        "pos = nx.spring_layout(G)\n",
        "nx.draw(G, pos, with_labels=True, node_color='lightblue', node_size=1500)\n",
        "plt.show()\n",
        "\n",
        "print(\"Nós:\", G.nodes())\n",
        "print(\"Arestas:\", G.edges())\n",
        "print(\"Grau do nó A:\", G.degree(\"A\"))"
      ]
    },
    {
      "cell_type": "markdown",
      "id": "15d66dd5",
      "metadata": {
        "id": "cap7"
      },
      "source": [
        "## 4. Grafos Estendidos (Capítulo 7)\n",
        "\n",
        "Aqui abordaremos variações como **grafos bipartidos**, **multilayer** e a inclusão de atributos em nós para representar relações mais complexas.\n",
        "\n",
        "### 4.1 Grafos Bipartidos\n",
        "São grafos em que os nós podem ser divididos em dois conjuntos, de modo que as arestas conectam somente nós de conjuntos distintos.\n",
        "\n",
        "### 4.2 Exemplo de Grafo Bipartido em NetworkX\n"
      ]
    },
    {
      "cell_type": "code",
      "execution_count": null,
      "id": "44d1b933",
      "metadata": {
        "id": "bipartite-code"
      },
      "outputs": [],
      "source": [
        "from networkx.algorithms import bipartite\n",
        "\n",
        "# Exemplo de grafo bipartido\n",
        "B = nx.Graph()\n",
        "# Conjuntos\n",
        "conjuntoX = [\"U1\", \"U2\", \"U3\"]\n",
        "conjuntoY = [\"I1\", \"I2\"]\n",
        "\n",
        "B.add_nodes_from(conjuntoX, bipartite=0)\n",
        "B.add_nodes_from(conjuntoY, bipartite=1)\n",
        "\n",
        "# Adicionando arestas entre os conjuntos\n",
        "B.add_edges_from([\n",
        "    (\"U1\", \"I1\"),\n",
        "    (\"U2\", \"I1\"),\n",
        "    (\"U3\", \"I2\")\n",
        "])\n",
        "\n",
        "pos = {}\n",
        "pos.update((node, (1, i)) for i, node in enumerate(conjuntoX))\n",
        "pos.update((node, (2, i)) for i, node in enumerate(conjuntoY))\n",
        "\n",
        "nx.draw(B, pos, with_labels=True, node_color='lightgreen', node_size=1500)\n",
        "plt.show()\n",
        "\n",
        "print(\"É bipartido?\", bipartite.is_bipartite(B))\n"
      ]
    },
    {
      "cell_type": "markdown",
      "id": "f811c19d",
      "metadata": {
        "id": "hands-on-exercises"
      },
      "source": [
        "# Exercícios Práticos\n",
        "\n",
        "## Exercício 1\n",
        "1. Implemente uma função `coin_toss(n, p)` que retorne a quantidade de caras ao lançar `n` vezes uma moeda com probabilidade `p` de sair cara. (Já implementada na seção de Probabilidade.)\n",
        "\n",
        "## Exercício 2\n",
        "1. Crie um grafo simples com pelo menos 6 nós, representando uma rede (por exemplo, amizades entre alunos).\n",
        "2. Desenhe o grafo, liste os graus de cada nó e identifique o nó com o grau máximo.\n",
        "\n",
        "## Exercício 3\n",
        "1. Monte um grafo bipartido, separando dois grupos (por exemplo, times ou disciplinas).\n",
        "2. Verifique se o grafo é bipartido utilizando `nx.algorithms.bipartite.is_bipartite`.\n",
        "\n",
        "## Exercício 4 (Desafio)\n",
        "Implemente um experimento de correlação:\n",
        "- Gere duas listas de dados (por exemplo, altura e peso fictícios de 10 pessoas).\n",
        "- Calcule a correlação de Pearson e a de Spearman.\n",
        "- Interprete os resultados."
      ]
    },
    {
      "cell_type": "markdown",
      "id": "5ae84e56",
      "metadata": {
        "id": "final-msg"
      },
      "source": [
        "## Conclusão\n",
        "\n",
        "Neste tutorial, revisamos conceitos de **Probabilidade**, **Estatística**, **Grafos Simples** e **Grafos Estendidos**, aplicados à disciplina de **Estrutura de Dados 2**. Esperamos que as seções práticas, os exercícios e as referências forneçam uma base sólida para a compreensão e manipulação de dados e redes em Python.\n",
        "\n",
        "**Boas práticas de aprendizagem**:\n",
        "- **Knowing**: Estude a teoria dos capítulos relacionados.\n",
        "- **Discovering**: Explore novas aplicações para os conceitos apresentados.\n",
        "- **Sharing**: Discuta as soluções e os exercícios com seus colegas.\n",
        "- **Experiencing**: Pratique implementando, testando e criando seus próprios exemplos.\n",
        "\n",
        "Bom estudo e mãos à obra!"
      ]
    }
  ],
  "metadata": {
    "kernelspec": {
      "display_name": "Python 3",
      "language": "python",
      "name": "python3"
    },
    "language_info": {
      "name": "python",
      "version": "3.9"
    }
  },
  "nbformat": 4,
  "nbformat_minor": 5
}
